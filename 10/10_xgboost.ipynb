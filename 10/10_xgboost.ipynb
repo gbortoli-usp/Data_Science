{
 "cells": [
  {
   "attachments": {},
   "cell_type": "markdown",
   "metadata": {
    "id": "mGKHv1rCvyRJ"
   },
   "source": [
    "# SCC-ICMC-USP - 1o. semestre de 2023\n",
    "# SCC5871/MAI5025 - APRENDIZADO DE MÁQUINA\n",
    "# **Exercício 5**\n",
    "\n",
    "### Profa. Roseli A. F. Romero\n",
    "\n",
    "### Monitor: Diogo Godoi\n",
    "\n",
    "Nro do grupo: 5\n",
    "\n",
    "### Alunos:\n",
    "- Gabriel Bortoli (5378290)\n",
    "- Lucas Maretti (6789752)\n"
   ]
  },
  {
   "attachments": {},
   "cell_type": "markdown",
   "metadata": {
    "id": "5W60BKvfr2pq"
   },
   "source": [
    "Considere o arquivo `houses_to_rent_v2.csv`. Esta base tem dados de imóveis para 5 cidades do Brasil. Esta base pode ser usada tanto pelo proprietário quanto pelo locatário. Pretende-se que um proprietario\n",
    "tenha uma estimativa do preço que pode alugar seu imóvel, através de seus atributos. Por outro lado, pretende-se que um locatário possa estimar se o aluguel é condizente."
   ]
  },
  {
   "attachments": {},
   "cell_type": "markdown",
   "metadata": {
    "id": "7D9C-F06urva"
   },
   "source": [
    "### **Questão 1**\n",
    "\n",
    " - Separe o conjunto em treinamento (80%) e teste (20%)\n",
    " - Verifique se é necessário um preprocessamento nos dados. Justifique o(s) tipo (s) de preprocessamento que foram feitos\n",
    " - Dica: O Sklearn não trabalha com atributos nominais em árvores de decisão"
   ]
  },
  {
   "cell_type": "code",
   "execution_count": 1,
   "metadata": {
    "ExecuteTime": {
     "end_time": "2023-06-27T12:24:21.234999Z",
     "start_time": "2023-06-27T12:24:20.101040Z"
    },
    "colab": {
     "base_uri": "https://localhost:8080/"
    },
    "id": "wT9Yj9lzsb8V",
    "outputId": "265ef962-3b3f-4b7e-d859-3dc632c6e35d"
   },
   "outputs": [
    {
     "name": "stdout",
     "output_type": "stream",
     "text": [
      "10692\n",
      "<class 'pandas.core.frame.DataFrame'>\n",
      "RangeIndex: 10692 entries, 0 to 10691\n",
      "Data columns (total 7 columns):\n",
      " #   Column               Non-Null Count  Dtype \n",
      "---  ------               --------------  ----- \n",
      " 0   city                 10692 non-null  object\n",
      " 1   rooms                10692 non-null  int64 \n",
      " 2   bathroom             10692 non-null  int64 \n",
      " 3   parking spaces       10692 non-null  int64 \n",
      " 4   furniture            10692 non-null  object\n",
      " 5   fire insurance (R$)  10692 non-null  int64 \n",
      " 6   rent amount (R$)     10692 non-null  int64 \n",
      "dtypes: int64(5), object(2)\n",
      "memory usage: 584.8+ KB\n",
      "None\n"
     ]
    }
   ],
   "source": [
    "from sklearn.model_selection import train_test_split\n",
    "from sklearn.metrics import mean_squared_error\n",
    "from sklearn.metrics import r2_score\n",
    "from sklearn.preprocessing import MinMaxScaler\n",
    "import pandas as pd\n",
    "import numpy as np\n",
    "\n",
    "data = pd.read_csv('houses_to_rent_v2.csv', na_values='-')\n",
    "# Vamos ignorar algumas colunas para simplificar o problema\n",
    "data = data[['city', 'rooms', 'bathroom', 'parking spaces', 'furniture', 'fire insurance (R$)', 'rent amount (R$)']]\n",
    "data = data.reset_index(drop=True)\n",
    "print(data.shape[0])\n",
    "print(data.info())"
   ]
  },
  {
   "cell_type": "code",
   "execution_count": 2,
   "metadata": {
    "ExecuteTime": {
     "end_time": "2023-06-27T12:24:21.997057Z",
     "start_time": "2023-06-27T12:24:21.973187Z"
    }
   },
   "outputs": [
    {
     "data": {
      "text/html": [
       "<div>\n",
       "<style scoped>\n",
       "    .dataframe tbody tr th:only-of-type {\n",
       "        vertical-align: middle;\n",
       "    }\n",
       "\n",
       "    .dataframe tbody tr th {\n",
       "        vertical-align: top;\n",
       "    }\n",
       "\n",
       "    .dataframe thead th {\n",
       "        text-align: right;\n",
       "    }\n",
       "</style>\n",
       "<table border=\"1\" class=\"dataframe\">\n",
       "  <thead>\n",
       "    <tr style=\"text-align: right;\">\n",
       "      <th></th>\n",
       "      <th>city</th>\n",
       "      <th>rooms</th>\n",
       "      <th>bathroom</th>\n",
       "      <th>parking spaces</th>\n",
       "      <th>furniture</th>\n",
       "      <th>fire insurance (R$)</th>\n",
       "      <th>rent amount (R$)</th>\n",
       "    </tr>\n",
       "  </thead>\n",
       "  <tbody>\n",
       "    <tr>\n",
       "      <th>0</th>\n",
       "      <td>São Paulo</td>\n",
       "      <td>2</td>\n",
       "      <td>1</td>\n",
       "      <td>1</td>\n",
       "      <td>furnished</td>\n",
       "      <td>42</td>\n",
       "      <td>3300</td>\n",
       "    </tr>\n",
       "    <tr>\n",
       "      <th>1</th>\n",
       "      <td>São Paulo</td>\n",
       "      <td>4</td>\n",
       "      <td>4</td>\n",
       "      <td>0</td>\n",
       "      <td>not furnished</td>\n",
       "      <td>63</td>\n",
       "      <td>4960</td>\n",
       "    </tr>\n",
       "    <tr>\n",
       "      <th>2</th>\n",
       "      <td>Porto Alegre</td>\n",
       "      <td>1</td>\n",
       "      <td>1</td>\n",
       "      <td>1</td>\n",
       "      <td>not furnished</td>\n",
       "      <td>41</td>\n",
       "      <td>2800</td>\n",
       "    </tr>\n",
       "    <tr>\n",
       "      <th>3</th>\n",
       "      <td>Porto Alegre</td>\n",
       "      <td>2</td>\n",
       "      <td>1</td>\n",
       "      <td>0</td>\n",
       "      <td>not furnished</td>\n",
       "      <td>17</td>\n",
       "      <td>1112</td>\n",
       "    </tr>\n",
       "    <tr>\n",
       "      <th>4</th>\n",
       "      <td>São Paulo</td>\n",
       "      <td>1</td>\n",
       "      <td>1</td>\n",
       "      <td>0</td>\n",
       "      <td>not furnished</td>\n",
       "      <td>11</td>\n",
       "      <td>800</td>\n",
       "    </tr>\n",
       "  </tbody>\n",
       "</table>\n",
       "</div>"
      ],
      "text/plain": [
       "           city  rooms  bathroom  parking spaces      furniture  \\\n",
       "0     São Paulo      2         1               1      furnished   \n",
       "1     São Paulo      4         4               0  not furnished   \n",
       "2  Porto Alegre      1         1               1  not furnished   \n",
       "3  Porto Alegre      2         1               0  not furnished   \n",
       "4     São Paulo      1         1               0  not furnished   \n",
       "\n",
       "   fire insurance (R$)  rent amount (R$)  \n",
       "0                   42              3300  \n",
       "1                   63              4960  \n",
       "2                   41              2800  \n",
       "3                   17              1112  \n",
       "4                   11               800  "
      ]
     },
     "execution_count": 2,
     "metadata": {},
     "output_type": "execute_result"
    }
   ],
   "source": [
    "data.head()"
   ]
  },
  {
   "cell_type": "code",
   "execution_count": 3,
   "metadata": {
    "ExecuteTime": {
     "end_time": "2023-06-27T12:24:23.327255Z",
     "start_time": "2023-06-27T12:24:23.316429Z"
    }
   },
   "outputs": [
    {
     "data": {
      "text/plain": [
       "Index(['city', 'rooms', 'bathroom', 'parking spaces', 'furniture',\n",
       "       'fire insurance (R$)', 'rent amount (R$)'],\n",
       "      dtype='object')"
      ]
     },
     "execution_count": 3,
     "metadata": {},
     "output_type": "execute_result"
    }
   ],
   "source": [
    "data.columns"
   ]
  },
  {
   "attachments": {},
   "cell_type": "markdown",
   "metadata": {},
   "source": [
    "### Precisamos fazer o encoding das variáveis city e furniture"
   ]
  },
  {
   "cell_type": "code",
   "execution_count": 4,
   "metadata": {
    "ExecuteTime": {
     "end_time": "2023-06-27T12:24:24.721868Z",
     "start_time": "2023-06-27T12:24:24.711389Z"
    }
   },
   "outputs": [
    {
     "data": {
      "text/plain": [
       "array(['São Paulo', 'Porto Alegre', 'Rio de Janeiro', 'Campinas',\n",
       "       'Belo Horizonte'], dtype=object)"
      ]
     },
     "execution_count": 4,
     "metadata": {},
     "output_type": "execute_result"
    }
   ],
   "source": [
    "data.city.unique()"
   ]
  },
  {
   "cell_type": "code",
   "execution_count": 5,
   "metadata": {
    "ExecuteTime": {
     "end_time": "2023-06-27T12:24:25.103594Z",
     "start_time": "2023-06-27T12:24:25.096448Z"
    }
   },
   "outputs": [
    {
     "data": {
      "text/plain": [
       "array(['furnished', 'not furnished'], dtype=object)"
      ]
     },
     "execution_count": 5,
     "metadata": {},
     "output_type": "execute_result"
    }
   ],
   "source": [
    "data.furniture.unique()"
   ]
  },
  {
   "attachments": {},
   "cell_type": "markdown",
   "metadata": {},
   "source": [
    "#### Como ambas as features não possuem grande cardinalidade, vamos usar one hot encoding para ambas"
   ]
  },
  {
   "cell_type": "code",
   "execution_count": 6,
   "metadata": {
    "ExecuteTime": {
     "end_time": "2023-06-27T12:25:30.394135Z",
     "start_time": "2023-06-27T12:25:30.366391Z"
    }
   },
   "outputs": [],
   "source": [
    "from sklearn.preprocessing import OneHotEncoder\n",
    "\n",
    "encoder = OneHotEncoder(sparse_output=False)\n",
    "\n",
    "encoded_features = encoder.fit_transform(data[['city', 'furniture']])\n",
    "\n",
    "city_categories = encoder.categories_[0]\n",
    "furniture_categories = encoder.categories_[1]\n",
    "\n",
    "encoded_city_columns = [f'city_{category}' for category in city_categories]\n",
    "encoded_furniture_columns = [f'furniture_{category}' for category in furniture_categories]\n",
    "\n",
    "encoded_data = pd.DataFrame(encoded_features, columns=encoded_city_columns + encoded_furniture_columns)"
   ]
  },
  {
   "cell_type": "code",
   "execution_count": 7,
   "metadata": {
    "ExecuteTime": {
     "end_time": "2023-06-27T12:25:31.488283Z",
     "start_time": "2023-06-27T12:25:31.457549Z"
    }
   },
   "outputs": [
    {
     "data": {
      "text/html": [
       "<div>\n",
       "<style scoped>\n",
       "    .dataframe tbody tr th:only-of-type {\n",
       "        vertical-align: middle;\n",
       "    }\n",
       "\n",
       "    .dataframe tbody tr th {\n",
       "        vertical-align: top;\n",
       "    }\n",
       "\n",
       "    .dataframe thead th {\n",
       "        text-align: right;\n",
       "    }\n",
       "</style>\n",
       "<table border=\"1\" class=\"dataframe\">\n",
       "  <thead>\n",
       "    <tr style=\"text-align: right;\">\n",
       "      <th></th>\n",
       "      <th>city_Belo Horizonte</th>\n",
       "      <th>city_Campinas</th>\n",
       "      <th>city_Porto Alegre</th>\n",
       "      <th>city_Rio de Janeiro</th>\n",
       "      <th>city_São Paulo</th>\n",
       "      <th>furniture_furnished</th>\n",
       "      <th>furniture_not furnished</th>\n",
       "    </tr>\n",
       "  </thead>\n",
       "  <tbody>\n",
       "    <tr>\n",
       "      <th>0</th>\n",
       "      <td>0.0</td>\n",
       "      <td>0.0</td>\n",
       "      <td>0.0</td>\n",
       "      <td>0.0</td>\n",
       "      <td>1.0</td>\n",
       "      <td>1.0</td>\n",
       "      <td>0.0</td>\n",
       "    </tr>\n",
       "    <tr>\n",
       "      <th>1</th>\n",
       "      <td>0.0</td>\n",
       "      <td>0.0</td>\n",
       "      <td>0.0</td>\n",
       "      <td>0.0</td>\n",
       "      <td>1.0</td>\n",
       "      <td>0.0</td>\n",
       "      <td>1.0</td>\n",
       "    </tr>\n",
       "    <tr>\n",
       "      <th>2</th>\n",
       "      <td>0.0</td>\n",
       "      <td>0.0</td>\n",
       "      <td>1.0</td>\n",
       "      <td>0.0</td>\n",
       "      <td>0.0</td>\n",
       "      <td>0.0</td>\n",
       "      <td>1.0</td>\n",
       "    </tr>\n",
       "    <tr>\n",
       "      <th>3</th>\n",
       "      <td>0.0</td>\n",
       "      <td>0.0</td>\n",
       "      <td>1.0</td>\n",
       "      <td>0.0</td>\n",
       "      <td>0.0</td>\n",
       "      <td>0.0</td>\n",
       "      <td>1.0</td>\n",
       "    </tr>\n",
       "    <tr>\n",
       "      <th>4</th>\n",
       "      <td>0.0</td>\n",
       "      <td>0.0</td>\n",
       "      <td>0.0</td>\n",
       "      <td>0.0</td>\n",
       "      <td>1.0</td>\n",
       "      <td>0.0</td>\n",
       "      <td>1.0</td>\n",
       "    </tr>\n",
       "    <tr>\n",
       "      <th>...</th>\n",
       "      <td>...</td>\n",
       "      <td>...</td>\n",
       "      <td>...</td>\n",
       "      <td>...</td>\n",
       "      <td>...</td>\n",
       "      <td>...</td>\n",
       "      <td>...</td>\n",
       "    </tr>\n",
       "    <tr>\n",
       "      <th>10687</th>\n",
       "      <td>0.0</td>\n",
       "      <td>0.0</td>\n",
       "      <td>1.0</td>\n",
       "      <td>0.0</td>\n",
       "      <td>0.0</td>\n",
       "      <td>1.0</td>\n",
       "      <td>0.0</td>\n",
       "    </tr>\n",
       "    <tr>\n",
       "      <th>10688</th>\n",
       "      <td>0.0</td>\n",
       "      <td>0.0</td>\n",
       "      <td>0.0</td>\n",
       "      <td>0.0</td>\n",
       "      <td>1.0</td>\n",
       "      <td>0.0</td>\n",
       "      <td>1.0</td>\n",
       "    </tr>\n",
       "    <tr>\n",
       "      <th>10689</th>\n",
       "      <td>0.0</td>\n",
       "      <td>0.0</td>\n",
       "      <td>0.0</td>\n",
       "      <td>1.0</td>\n",
       "      <td>0.0</td>\n",
       "      <td>1.0</td>\n",
       "      <td>0.0</td>\n",
       "    </tr>\n",
       "    <tr>\n",
       "      <th>10690</th>\n",
       "      <td>0.0</td>\n",
       "      <td>0.0</td>\n",
       "      <td>0.0</td>\n",
       "      <td>1.0</td>\n",
       "      <td>0.0</td>\n",
       "      <td>1.0</td>\n",
       "      <td>0.0</td>\n",
       "    </tr>\n",
       "    <tr>\n",
       "      <th>10691</th>\n",
       "      <td>0.0</td>\n",
       "      <td>0.0</td>\n",
       "      <td>0.0</td>\n",
       "      <td>0.0</td>\n",
       "      <td>1.0</td>\n",
       "      <td>0.0</td>\n",
       "      <td>1.0</td>\n",
       "    </tr>\n",
       "  </tbody>\n",
       "</table>\n",
       "<p>10692 rows × 7 columns</p>\n",
       "</div>"
      ],
      "text/plain": [
       "       city_Belo Horizonte  city_Campinas  city_Porto Alegre  \\\n",
       "0                      0.0            0.0                0.0   \n",
       "1                      0.0            0.0                0.0   \n",
       "2                      0.0            0.0                1.0   \n",
       "3                      0.0            0.0                1.0   \n",
       "4                      0.0            0.0                0.0   \n",
       "...                    ...            ...                ...   \n",
       "10687                  0.0            0.0                1.0   \n",
       "10688                  0.0            0.0                0.0   \n",
       "10689                  0.0            0.0                0.0   \n",
       "10690                  0.0            0.0                0.0   \n",
       "10691                  0.0            0.0                0.0   \n",
       "\n",
       "       city_Rio de Janeiro  city_São Paulo  furniture_furnished  \\\n",
       "0                      0.0             1.0                  1.0   \n",
       "1                      0.0             1.0                  0.0   \n",
       "2                      0.0             0.0                  0.0   \n",
       "3                      0.0             0.0                  0.0   \n",
       "4                      0.0             1.0                  0.0   \n",
       "...                    ...             ...                  ...   \n",
       "10687                  0.0             0.0                  1.0   \n",
       "10688                  0.0             1.0                  0.0   \n",
       "10689                  1.0             0.0                  1.0   \n",
       "10690                  1.0             0.0                  1.0   \n",
       "10691                  0.0             1.0                  0.0   \n",
       "\n",
       "       furniture_not furnished  \n",
       "0                          0.0  \n",
       "1                          1.0  \n",
       "2                          1.0  \n",
       "3                          1.0  \n",
       "4                          1.0  \n",
       "...                        ...  \n",
       "10687                      0.0  \n",
       "10688                      1.0  \n",
       "10689                      0.0  \n",
       "10690                      0.0  \n",
       "10691                      1.0  \n",
       "\n",
       "[10692 rows x 7 columns]"
      ]
     },
     "execution_count": 7,
     "metadata": {},
     "output_type": "execute_result"
    }
   ],
   "source": [
    "encoded_data"
   ]
  },
  {
   "cell_type": "code",
   "execution_count": 8,
   "metadata": {
    "ExecuteTime": {
     "end_time": "2023-06-27T12:25:40.780656Z",
     "start_time": "2023-06-27T12:25:40.770107Z"
    }
   },
   "outputs": [],
   "source": [
    "# Concatenate the encoded_data with the original data DataFrame\n",
    "df = pd.concat([data.drop(['city', 'furniture'], axis=1), encoded_data], axis=1)"
   ]
  },
  {
   "cell_type": "code",
   "execution_count": 9,
   "metadata": {
    "ExecuteTime": {
     "end_time": "2023-06-27T12:25:41.153382Z",
     "start_time": "2023-06-27T12:25:41.117859Z"
    }
   },
   "outputs": [
    {
     "data": {
      "text/html": [
       "<div>\n",
       "<style scoped>\n",
       "    .dataframe tbody tr th:only-of-type {\n",
       "        vertical-align: middle;\n",
       "    }\n",
       "\n",
       "    .dataframe tbody tr th {\n",
       "        vertical-align: top;\n",
       "    }\n",
       "\n",
       "    .dataframe thead th {\n",
       "        text-align: right;\n",
       "    }\n",
       "</style>\n",
       "<table border=\"1\" class=\"dataframe\">\n",
       "  <thead>\n",
       "    <tr style=\"text-align: right;\">\n",
       "      <th></th>\n",
       "      <th>rooms</th>\n",
       "      <th>bathroom</th>\n",
       "      <th>parking spaces</th>\n",
       "      <th>fire insurance (R$)</th>\n",
       "      <th>rent amount (R$)</th>\n",
       "      <th>city_Belo Horizonte</th>\n",
       "      <th>city_Campinas</th>\n",
       "      <th>city_Porto Alegre</th>\n",
       "      <th>city_Rio de Janeiro</th>\n",
       "      <th>city_São Paulo</th>\n",
       "      <th>furniture_furnished</th>\n",
       "      <th>furniture_not furnished</th>\n",
       "    </tr>\n",
       "  </thead>\n",
       "  <tbody>\n",
       "    <tr>\n",
       "      <th>0</th>\n",
       "      <td>2</td>\n",
       "      <td>1</td>\n",
       "      <td>1</td>\n",
       "      <td>42</td>\n",
       "      <td>3300</td>\n",
       "      <td>0.0</td>\n",
       "      <td>0.0</td>\n",
       "      <td>0.0</td>\n",
       "      <td>0.0</td>\n",
       "      <td>1.0</td>\n",
       "      <td>1.0</td>\n",
       "      <td>0.0</td>\n",
       "    </tr>\n",
       "    <tr>\n",
       "      <th>1</th>\n",
       "      <td>4</td>\n",
       "      <td>4</td>\n",
       "      <td>0</td>\n",
       "      <td>63</td>\n",
       "      <td>4960</td>\n",
       "      <td>0.0</td>\n",
       "      <td>0.0</td>\n",
       "      <td>0.0</td>\n",
       "      <td>0.0</td>\n",
       "      <td>1.0</td>\n",
       "      <td>0.0</td>\n",
       "      <td>1.0</td>\n",
       "    </tr>\n",
       "    <tr>\n",
       "      <th>2</th>\n",
       "      <td>1</td>\n",
       "      <td>1</td>\n",
       "      <td>1</td>\n",
       "      <td>41</td>\n",
       "      <td>2800</td>\n",
       "      <td>0.0</td>\n",
       "      <td>0.0</td>\n",
       "      <td>1.0</td>\n",
       "      <td>0.0</td>\n",
       "      <td>0.0</td>\n",
       "      <td>0.0</td>\n",
       "      <td>1.0</td>\n",
       "    </tr>\n",
       "    <tr>\n",
       "      <th>3</th>\n",
       "      <td>2</td>\n",
       "      <td>1</td>\n",
       "      <td>0</td>\n",
       "      <td>17</td>\n",
       "      <td>1112</td>\n",
       "      <td>0.0</td>\n",
       "      <td>0.0</td>\n",
       "      <td>1.0</td>\n",
       "      <td>0.0</td>\n",
       "      <td>0.0</td>\n",
       "      <td>0.0</td>\n",
       "      <td>1.0</td>\n",
       "    </tr>\n",
       "    <tr>\n",
       "      <th>4</th>\n",
       "      <td>1</td>\n",
       "      <td>1</td>\n",
       "      <td>0</td>\n",
       "      <td>11</td>\n",
       "      <td>800</td>\n",
       "      <td>0.0</td>\n",
       "      <td>0.0</td>\n",
       "      <td>0.0</td>\n",
       "      <td>0.0</td>\n",
       "      <td>1.0</td>\n",
       "      <td>0.0</td>\n",
       "      <td>1.0</td>\n",
       "    </tr>\n",
       "    <tr>\n",
       "      <th>...</th>\n",
       "      <td>...</td>\n",
       "      <td>...</td>\n",
       "      <td>...</td>\n",
       "      <td>...</td>\n",
       "      <td>...</td>\n",
       "      <td>...</td>\n",
       "      <td>...</td>\n",
       "      <td>...</td>\n",
       "      <td>...</td>\n",
       "      <td>...</td>\n",
       "      <td>...</td>\n",
       "      <td>...</td>\n",
       "    </tr>\n",
       "    <tr>\n",
       "      <th>10687</th>\n",
       "      <td>2</td>\n",
       "      <td>1</td>\n",
       "      <td>1</td>\n",
       "      <td>22</td>\n",
       "      <td>1478</td>\n",
       "      <td>0.0</td>\n",
       "      <td>0.0</td>\n",
       "      <td>1.0</td>\n",
       "      <td>0.0</td>\n",
       "      <td>0.0</td>\n",
       "      <td>1.0</td>\n",
       "      <td>0.0</td>\n",
       "    </tr>\n",
       "    <tr>\n",
       "      <th>10688</th>\n",
       "      <td>4</td>\n",
       "      <td>4</td>\n",
       "      <td>4</td>\n",
       "      <td>191</td>\n",
       "      <td>15000</td>\n",
       "      <td>0.0</td>\n",
       "      <td>0.0</td>\n",
       "      <td>0.0</td>\n",
       "      <td>0.0</td>\n",
       "      <td>1.0</td>\n",
       "      <td>0.0</td>\n",
       "      <td>1.0</td>\n",
       "    </tr>\n",
       "    <tr>\n",
       "      <th>10689</th>\n",
       "      <td>3</td>\n",
       "      <td>3</td>\n",
       "      <td>0</td>\n",
       "      <td>78</td>\n",
       "      <td>6000</td>\n",
       "      <td>0.0</td>\n",
       "      <td>0.0</td>\n",
       "      <td>0.0</td>\n",
       "      <td>1.0</td>\n",
       "      <td>0.0</td>\n",
       "      <td>1.0</td>\n",
       "      <td>0.0</td>\n",
       "    </tr>\n",
       "    <tr>\n",
       "      <th>10690</th>\n",
       "      <td>2</td>\n",
       "      <td>2</td>\n",
       "      <td>2</td>\n",
       "      <td>155</td>\n",
       "      <td>12000</td>\n",
       "      <td>0.0</td>\n",
       "      <td>0.0</td>\n",
       "      <td>0.0</td>\n",
       "      <td>1.0</td>\n",
       "      <td>0.0</td>\n",
       "      <td>1.0</td>\n",
       "      <td>0.0</td>\n",
       "    </tr>\n",
       "    <tr>\n",
       "      <th>10691</th>\n",
       "      <td>2</td>\n",
       "      <td>1</td>\n",
       "      <td>0</td>\n",
       "      <td>22</td>\n",
       "      <td>1400</td>\n",
       "      <td>0.0</td>\n",
       "      <td>0.0</td>\n",
       "      <td>0.0</td>\n",
       "      <td>0.0</td>\n",
       "      <td>1.0</td>\n",
       "      <td>0.0</td>\n",
       "      <td>1.0</td>\n",
       "    </tr>\n",
       "  </tbody>\n",
       "</table>\n",
       "<p>10692 rows × 12 columns</p>\n",
       "</div>"
      ],
      "text/plain": [
       "       rooms  bathroom  parking spaces  fire insurance (R$)  rent amount (R$)  \\\n",
       "0          2         1               1                   42              3300   \n",
       "1          4         4               0                   63              4960   \n",
       "2          1         1               1                   41              2800   \n",
       "3          2         1               0                   17              1112   \n",
       "4          1         1               0                   11               800   \n",
       "...      ...       ...             ...                  ...               ...   \n",
       "10687      2         1               1                   22              1478   \n",
       "10688      4         4               4                  191             15000   \n",
       "10689      3         3               0                   78              6000   \n",
       "10690      2         2               2                  155             12000   \n",
       "10691      2         1               0                   22              1400   \n",
       "\n",
       "       city_Belo Horizonte  city_Campinas  city_Porto Alegre  \\\n",
       "0                      0.0            0.0                0.0   \n",
       "1                      0.0            0.0                0.0   \n",
       "2                      0.0            0.0                1.0   \n",
       "3                      0.0            0.0                1.0   \n",
       "4                      0.0            0.0                0.0   \n",
       "...                    ...            ...                ...   \n",
       "10687                  0.0            0.0                1.0   \n",
       "10688                  0.0            0.0                0.0   \n",
       "10689                  0.0            0.0                0.0   \n",
       "10690                  0.0            0.0                0.0   \n",
       "10691                  0.0            0.0                0.0   \n",
       "\n",
       "       city_Rio de Janeiro  city_São Paulo  furniture_furnished  \\\n",
       "0                      0.0             1.0                  1.0   \n",
       "1                      0.0             1.0                  0.0   \n",
       "2                      0.0             0.0                  0.0   \n",
       "3                      0.0             0.0                  0.0   \n",
       "4                      0.0             1.0                  0.0   \n",
       "...                    ...             ...                  ...   \n",
       "10687                  0.0             0.0                  1.0   \n",
       "10688                  0.0             1.0                  0.0   \n",
       "10689                  1.0             0.0                  1.0   \n",
       "10690                  1.0             0.0                  1.0   \n",
       "10691                  0.0             1.0                  0.0   \n",
       "\n",
       "       furniture_not furnished  \n",
       "0                          0.0  \n",
       "1                          1.0  \n",
       "2                          1.0  \n",
       "3                          1.0  \n",
       "4                          1.0  \n",
       "...                        ...  \n",
       "10687                      0.0  \n",
       "10688                      1.0  \n",
       "10689                      0.0  \n",
       "10690                      0.0  \n",
       "10691                      1.0  \n",
       "\n",
       "[10692 rows x 12 columns]"
      ]
     },
     "execution_count": 9,
     "metadata": {},
     "output_type": "execute_result"
    }
   ],
   "source": [
    "df"
   ]
  },
  {
   "cell_type": "code",
   "execution_count": 11,
   "metadata": {},
   "outputs": [
    {
     "data": {
      "text/html": [
       "<div>\n",
       "<style scoped>\n",
       "    .dataframe tbody tr th:only-of-type {\n",
       "        vertical-align: middle;\n",
       "    }\n",
       "\n",
       "    .dataframe tbody tr th {\n",
       "        vertical-align: top;\n",
       "    }\n",
       "\n",
       "    .dataframe thead th {\n",
       "        text-align: right;\n",
       "    }\n",
       "</style>\n",
       "<table border=\"1\" class=\"dataframe\">\n",
       "  <thead>\n",
       "    <tr style=\"text-align: right;\">\n",
       "      <th></th>\n",
       "      <th>rooms</th>\n",
       "      <th>bathroom</th>\n",
       "      <th>parking spaces</th>\n",
       "      <th>fire insurance (R$)</th>\n",
       "      <th>rent amount (R$)</th>\n",
       "      <th>city_Belo Horizonte</th>\n",
       "      <th>city_Campinas</th>\n",
       "      <th>city_Porto Alegre</th>\n",
       "      <th>city_Rio de Janeiro</th>\n",
       "      <th>city_São Paulo</th>\n",
       "      <th>furniture_furnished</th>\n",
       "      <th>furniture_not furnished</th>\n",
       "    </tr>\n",
       "  </thead>\n",
       "  <tbody>\n",
       "    <tr>\n",
       "      <th>0</th>\n",
       "      <td>0.083333</td>\n",
       "      <td>0.000000</td>\n",
       "      <td>0.083333</td>\n",
       "      <td>0.057864</td>\n",
       "      <td>0.063973</td>\n",
       "      <td>0.0</td>\n",
       "      <td>0.0</td>\n",
       "      <td>0.0</td>\n",
       "      <td>0.0</td>\n",
       "      <td>1.0</td>\n",
       "      <td>1.0</td>\n",
       "      <td>0.0</td>\n",
       "    </tr>\n",
       "    <tr>\n",
       "      <th>1</th>\n",
       "      <td>0.250000</td>\n",
       "      <td>0.333333</td>\n",
       "      <td>0.000000</td>\n",
       "      <td>0.089021</td>\n",
       "      <td>0.101235</td>\n",
       "      <td>0.0</td>\n",
       "      <td>0.0</td>\n",
       "      <td>0.0</td>\n",
       "      <td>0.0</td>\n",
       "      <td>1.0</td>\n",
       "      <td>0.0</td>\n",
       "      <td>1.0</td>\n",
       "    </tr>\n",
       "    <tr>\n",
       "      <th>2</th>\n",
       "      <td>0.000000</td>\n",
       "      <td>0.000000</td>\n",
       "      <td>0.083333</td>\n",
       "      <td>0.056380</td>\n",
       "      <td>0.052750</td>\n",
       "      <td>0.0</td>\n",
       "      <td>0.0</td>\n",
       "      <td>1.0</td>\n",
       "      <td>0.0</td>\n",
       "      <td>0.0</td>\n",
       "      <td>0.0</td>\n",
       "      <td>1.0</td>\n",
       "    </tr>\n",
       "    <tr>\n",
       "      <th>3</th>\n",
       "      <td>0.083333</td>\n",
       "      <td>0.000000</td>\n",
       "      <td>0.000000</td>\n",
       "      <td>0.020772</td>\n",
       "      <td>0.014860</td>\n",
       "      <td>0.0</td>\n",
       "      <td>0.0</td>\n",
       "      <td>1.0</td>\n",
       "      <td>0.0</td>\n",
       "      <td>0.0</td>\n",
       "      <td>0.0</td>\n",
       "      <td>1.0</td>\n",
       "    </tr>\n",
       "    <tr>\n",
       "      <th>4</th>\n",
       "      <td>0.000000</td>\n",
       "      <td>0.000000</td>\n",
       "      <td>0.000000</td>\n",
       "      <td>0.011869</td>\n",
       "      <td>0.007856</td>\n",
       "      <td>0.0</td>\n",
       "      <td>0.0</td>\n",
       "      <td>0.0</td>\n",
       "      <td>0.0</td>\n",
       "      <td>1.0</td>\n",
       "      <td>0.0</td>\n",
       "      <td>1.0</td>\n",
       "    </tr>\n",
       "  </tbody>\n",
       "</table>\n",
       "</div>"
      ],
      "text/plain": [
       "      rooms  bathroom  parking spaces  fire insurance (R$)  rent amount (R$)  \\\n",
       "0  0.083333  0.000000        0.083333             0.057864          0.063973   \n",
       "1  0.250000  0.333333        0.000000             0.089021          0.101235   \n",
       "2  0.000000  0.000000        0.083333             0.056380          0.052750   \n",
       "3  0.083333  0.000000        0.000000             0.020772          0.014860   \n",
       "4  0.000000  0.000000        0.000000             0.011869          0.007856   \n",
       "\n",
       "   city_Belo Horizonte  city_Campinas  city_Porto Alegre  city_Rio de Janeiro  \\\n",
       "0                  0.0            0.0                0.0                  0.0   \n",
       "1                  0.0            0.0                0.0                  0.0   \n",
       "2                  0.0            0.0                1.0                  0.0   \n",
       "3                  0.0            0.0                1.0                  0.0   \n",
       "4                  0.0            0.0                0.0                  0.0   \n",
       "\n",
       "   city_São Paulo  furniture_furnished  furniture_not furnished  \n",
       "0             1.0                  1.0                      0.0  \n",
       "1             1.0                  0.0                      1.0  \n",
       "2             0.0                  0.0                      1.0  \n",
       "3             0.0                  0.0                      1.0  \n",
       "4             1.0                  0.0                      1.0  "
      ]
     },
     "execution_count": 11,
     "metadata": {},
     "output_type": "execute_result"
    }
   ],
   "source": [
    "# Agora vamos colcoar todos os valores no intervalo de 0 a 1 com o MinMaxScaler:.\n",
    "scaler = MinMaxScaler()\n",
    "data_scaled = scaler.fit_transform(df)\n",
    "df[df.columns[:]] = data_scaled\n",
    "\n",
    "# Vamos visualizar alguns registros e também ver algumas informações:\n",
    "df.head(5)"
   ]
  },
  {
   "attachments": {},
   "cell_type": "markdown",
   "metadata": {},
   "source": [
    "### Separando em treino e teste"
   ]
  },
  {
   "cell_type": "code",
   "execution_count": 12,
   "metadata": {
    "ExecuteTime": {
     "end_time": "2023-06-27T12:25:43.901763Z",
     "start_time": "2023-06-27T12:25:43.881695Z"
    }
   },
   "outputs": [],
   "source": [
    "target = 'rent amount (R$)'\n",
    "\n",
    "X = df.drop(target, axis=1)  \n",
    "y = df[target]\n",
    "\n",
    "# Split the dataset into 80% training and 20% test\n",
    "X_train, X_test, y_train, y_test = train_test_split(X, y, test_size=0.2, random_state=42)"
   ]
  },
  {
   "attachments": {},
   "cell_type": "markdown",
   "metadata": {
    "id": "zzAYRQWCkyrZ"
   },
   "source": [
    "### **Questão 2**\n",
    "Verificar se existem dados nulos."
   ]
  },
  {
   "cell_type": "code",
   "execution_count": 13,
   "metadata": {
    "ExecuteTime": {
     "end_time": "2023-06-27T12:25:45.478418Z",
     "start_time": "2023-06-27T12:25:45.469615Z"
    }
   },
   "outputs": [
    {
     "data": {
      "text/plain": [
       "rooms                      0\n",
       "bathroom                   0\n",
       "parking spaces             0\n",
       "fire insurance (R$)        0\n",
       "city_Belo Horizonte        0\n",
       "city_Campinas              0\n",
       "city_Porto Alegre          0\n",
       "city_Rio de Janeiro        0\n",
       "city_São Paulo             0\n",
       "furniture_furnished        0\n",
       "furniture_not furnished    0\n",
       "dtype: int64"
      ]
     },
     "execution_count": 13,
     "metadata": {},
     "output_type": "execute_result"
    }
   ],
   "source": [
    "X.isna().sum()"
   ]
  },
  {
   "cell_type": "code",
   "execution_count": 14,
   "metadata": {
    "ExecuteTime": {
     "end_time": "2023-06-27T12:25:47.259640Z",
     "start_time": "2023-06-27T12:25:47.252103Z"
    }
   },
   "outputs": [
    {
     "data": {
      "text/plain": [
       "0"
      ]
     },
     "execution_count": 14,
     "metadata": {},
     "output_type": "execute_result"
    }
   ],
   "source": [
    "y.isna().sum()"
   ]
  },
  {
   "attachments": {},
   "cell_type": "markdown",
   "metadata": {
    "id": "cLY2zEeilRFU"
   },
   "source": [
    "### **Questão 3**\n",
    "Verifique se existem outliers em relação ao valor do aluguel.\n",
    "Crie um novo conjunto de dados, eliminando os outliers e considere esse novo conjunto para resolver os itens seguintes."
   ]
  },
  {
   "cell_type": "code",
   "execution_count": 15,
   "metadata": {
    "ExecuteTime": {
     "end_time": "2023-06-27T12:33:42.198520Z",
     "start_time": "2023-06-27T12:33:42.189770Z"
    }
   },
   "outputs": [
    {
     "data": {
      "text/plain": [
       "array([0.18069585, 0.04152637, 0.00112233, ..., 0.09539843, 0.04826038,\n",
       "       0.05050505])"
      ]
     },
     "execution_count": 15,
     "metadata": {},
     "output_type": "execute_result"
    }
   ],
   "source": [
    "y_train.values"
   ]
  },
  {
   "cell_type": "code",
   "execution_count": 16,
   "metadata": {
    "ExecuteTime": {
     "end_time": "2023-06-27T12:33:10.335344Z",
     "start_time": "2023-06-27T12:33:10.227775Z"
    }
   },
   "outputs": [
    {
     "data": {
      "text/plain": [
       "count    8553.000000\n",
       "mean        0.077811\n",
       "std         0.076973\n",
       "min         0.000000\n",
       "25%         0.024467\n",
       "50%         0.050505\n",
       "75%         0.102132\n",
       "max         1.000000\n",
       "Name: rent amount (R$), dtype: float64"
      ]
     },
     "execution_count": 16,
     "metadata": {},
     "output_type": "execute_result"
    }
   ],
   "source": [
    "y_train.describe()"
   ]
  },
  {
   "cell_type": "code",
   "execution_count": 17,
   "metadata": {
    "ExecuteTime": {
     "end_time": "2023-06-27T12:33:46.813620Z",
     "start_time": "2023-06-27T12:33:46.695084Z"
    }
   },
   "outputs": [
    {
     "data": {
      "text/plain": [
       "<AxesSubplot: >"
      ]
     },
     "execution_count": 17,
     "metadata": {},
     "output_type": "execute_result"
    },
    {
     "data": {
      "image/png": "[encoded data removed]",
      "text/plain": [
       "<Figure size 640x480 with 1 Axes>"
      ]
     },
     "metadata": {},
     "output_type": "display_data"
    }
   ],
   "source": [
    "import seaborn as sns\n",
    "\n",
    "sns.boxplot(y_train.values)"
   ]
  },
  {
   "cell_type": "code",
   "execution_count": 18,
   "metadata": {
    "ExecuteTime": {
     "end_time": "2023-06-27T12:36:11.003151Z",
     "start_time": "2023-06-27T12:36:10.982945Z"
    }
   },
   "outputs": [],
   "source": [
    "train = pd.concat([X_train, y_train], axis=1)"
   ]
  },
  {
   "cell_type": "code",
   "execution_count": 19,
   "metadata": {
    "ExecuteTime": {
     "end_time": "2023-06-27T12:36:11.343050Z",
     "start_time": "2023-06-27T12:36:11.315647Z"
    }
   },
   "outputs": [],
   "source": [
    "import numpy as np\n",
    "\n",
    "Q1 = np.percentile(y, 25)\n",
    "Q3 = np.percentile(y, 75)\n",
    "IQR = Q3 - Q1\n",
    "\n",
    "lower_cutoff = Q1 - 1.5 * IQR\n",
    "upper_cutoff = Q3 + 1.5 * IQR\n",
    "\n",
    "filtered_train = train[(train[target] >= lower_cutoff) & (train[target] <= upper_cutoff)]\n"
   ]
  },
  {
   "cell_type": "code",
   "execution_count": 20,
   "metadata": {
    "ExecuteTime": {
     "end_time": "2023-06-27T12:36:46.384136Z",
     "start_time": "2023-06-27T12:36:46.372088Z"
    }
   },
   "outputs": [],
   "source": [
    "X_train = filtered_train.drop(target, axis=1)  \n",
    "y_train = filtered_train[target]"
   ]
  },
  {
   "cell_type": "code",
   "execution_count": 21,
   "metadata": {
    "ExecuteTime": {
     "end_time": "2023-06-27T12:36:58.175671Z",
     "start_time": "2023-06-27T12:36:58.056280Z"
    }
   },
   "outputs": [
    {
     "data": {
      "text/plain": [
       "<AxesSubplot: >"
      ]
     },
     "execution_count": 21,
     "metadata": {},
     "output_type": "execute_result"
    },
    {
     "data": {
      "image/png": "[encoded data removed]",
      "text/plain": [
       "<Figure size 640x480 with 1 Axes>"
      ]
     },
     "metadata": {},
     "output_type": "display_data"
    }
   ],
   "source": [
    "sns.boxplot(y_train.values)"
   ]
  },
  {
   "attachments": {},
   "cell_type": "markdown",
   "metadata": {
    "id": "JJ5PK5QYTR4B"
   },
   "source": [
    "### **Questão 5**\n",
    "\n",
    "Treine um modelo de regressão com o método XGBoost, no conjunto de treino e calcule o Mean Squared Error (MSE) e o R2 no conjunto de teste.\n",
    "\n",
    "- Dica: Utilize `xgboost.XGBRegressor`"
   ]
  },
  {
   "cell_type": "code",
   "execution_count": 27,
   "metadata": {
    "ExecuteTime": {
     "end_time": "2023-06-27T12:47:05.647763Z",
     "start_time": "2023-06-27T12:47:05.299842Z"
    }
   },
   "outputs": [
    {
     "name": "stdout",
     "output_type": "stream",
     "text": [
      "Mean Squared Error (MSE) * 1000: 0.51\n",
      "R2 Score: 0.9083\n"
     ]
    }
   ],
   "source": [
    "import xgboost as xgb\n",
    "\n",
    "# Create an instance of XGBRegressor\n",
    "model_xgb = xgb.XGBRegressor()\n",
    "\n",
    "# Train the model on the train set\n",
    "model_xgb.fit(X_train, y_train)\n",
    "\n",
    "# Make predictions on the test set\n",
    "y_pred = model_xgb.predict(X_test)\n",
    "\n",
    "# Calculate Mean Squared Error (MSE)\n",
    "mse = mean_squared_error(y_test, y_pred)\n",
    "\n",
    "# Calculate R2 score\n",
    "r2 = r2_score(y_test, y_pred)\n",
    "\n",
    "print(\"Mean Squared Error (MSE) * 1000:\", round(mse*1000,2))\n",
    "print(\"R2 Score:\", round(r2,4))\n"
   ]
  },
  {
   "attachments": {},
   "cell_type": "markdown",
   "metadata": {
    "id": "J16NUNU14ru7"
   },
   "source": [
    "### **Questão 6**\n",
    "\n",
    "Compare seus resultados com os modelos do exercício anterior.\n",
    "\n",
    "- Dica: Cuidado para usar o mesmo train/test split em todos os modelos para que a comparação faça sentido. Para isso você pode utilizar o mesmo `random_state` na função `train_test_split` nos dois métodos.\n",
    "\n",
    "\n"
   ]
  },
  {
   "cell_type": "code",
   "execution_count": 28,
   "metadata": {
    "ExecuteTime": {
     "end_time": "2023-06-27T12:47:06.456787Z",
     "start_time": "2023-06-27T12:47:06.406068Z"
    }
   },
   "outputs": [
    {
     "name": "stdout",
     "output_type": "stream",
     "text": [
      "Mean Squared Error (MSE) * 1000: 0.52\n",
      "R2 Score: 0.9067\n"
     ]
    }
   ],
   "source": [
    "from sklearn.tree import DecisionTreeRegressor\n",
    "# Create an instance of XGBRegressor\n",
    "model_dt = DecisionTreeRegressor()\n",
    "\n",
    "# Train the model on the train set\n",
    "model_dt.fit(X_train, y_train)\n",
    "\n",
    "# Make predictions on the test set\n",
    "y_pred = model_dt.predict(X_test)\n",
    "\n",
    "# Calculate Mean Squared Error (MSE)\n",
    "mse = mean_squared_error(y_test, y_pred)\n",
    "\n",
    "# Calculate R2 score\n",
    "r2 = r2_score(y_test, y_pred)\n",
    "\n",
    "print(\"Mean Squared Error (MSE) * 1000:\", round(mse*1000,2))\n",
    "print(\"R2 Score:\", round(r2,4))"
   ]
  },
  {
   "cell_type": "code",
   "execution_count": 29,
   "metadata": {
    "ExecuteTime": {
     "end_time": "2023-06-27T12:47:07.765233Z",
     "start_time": "2023-06-27T12:47:06.793930Z"
    }
   },
   "outputs": [
    {
     "name": "stdout",
     "output_type": "stream",
     "text": [
      "Mean Squared Error (MSE) * 1000: 0.53\n",
      "R2 Score: 0.9049\n"
     ]
    }
   ],
   "source": [
    "from sklearn.ensemble import RandomForestRegressor\n",
    "\n",
    "# Create an instance of XGBRegressor\n",
    "model_rf = RandomForestRegressor()\n",
    "\n",
    "# Train the model on the train set\n",
    "model_rf.fit(X_train, y_train)\n",
    "\n",
    "# Make predictions on the test set\n",
    "y_pred = model_rf.predict(X_test)\n",
    "\n",
    "# Calculate Mean Squared Error (MSE)\n",
    "mse = mean_squared_error(y_test, y_pred)\n",
    "\n",
    "# Calculate R2 score\n",
    "r2 = r2_score(y_test, y_pred)\n",
    "\n",
    "print(\"Mean Squared Error (MSE) * 1000:\", round(mse*1000,2))\n",
    "print(\"R2 Score:\", round(r2,4))\n"
   ]
  },
  {
   "attachments": {},
   "cell_type": "markdown",
   "metadata": {
    "id": "N1Xnzv8e5IuR"
   },
   "source": [
    "#### Resposta: Os algoritmos de boosting tem um MSE melhor do que os algoritmos do exercício anterior. O que é esperado já que são variações dos algoritmos de DT e RF que utilizam técnicas de boosting para melhorar a performance."
   ]
  },
  {
   "attachments": {},
   "cell_type": "markdown",
   "metadata": {
    "id": "M_SjANzd5gdQ"
   },
   "source": [
    "### **Questão 7**\n",
    "\n",
    "Verifique a importância de cada feature para o resultado final utilizando o melhor modelo. O que isso diz sobre o problema que estamos tentando resolver?"
   ]
  },
  {
   "cell_type": "code",
   "execution_count": 31,
   "metadata": {
    "ExecuteTime": {
     "end_time": "2023-06-27T12:47:20.151754Z",
     "start_time": "2023-06-27T12:47:19.935911Z"
    }
   },
   "outputs": [
    {
     "data": {
      "image/png": "[encoded data removed]",
      "text/plain": [
       "<Figure size 1000x600 with 1 Axes>"
      ]
     },
     "metadata": {},
     "output_type": "display_data"
    }
   ],
   "source": [
    "import matplotlib.pyplot as plt\n",
    "\n",
    "# Get feature importances\n",
    "feature_importance = model_xgb.feature_importances_\n",
    "\n",
    "feature_names = X_train.columns\n",
    "\n",
    "# Sort feature importances in descending order\n",
    "sorted_indices = feature_importance.argsort()[::-1]\n",
    "sorted_feature_importance = feature_importance[sorted_indices]\n",
    "sorted_feature_names = feature_names[sorted_indices]\n",
    "\n",
    "plt.figure(figsize=(10, 6))\n",
    "plt.barh(range(len(sorted_feature_importance)), sorted_feature_importance, align='center')\n",
    "plt.yticks(range(len(sorted_feature_importance)), sorted_feature_names)\n",
    "plt.xlabel('Feature Importance')\n",
    "plt.ylabel('Features')\n",
    "plt.title('XGBoost Feature Importance')\n",
    "plt.show()\n"
   ]
  },
  {
   "attachments": {},
   "cell_type": "markdown",
   "metadata": {},
   "source": [
    "O custo de seguro contra incêndio tem um efeito altíssimo no preço final dos imóveis. São Paulo especificamente possui o seguro contra incêndio mais caro de todas as cidades. Além disso, é a cidade mais presente no dataset, o que pode explicar a valorização desta feature (ver gráficos abaixo)"
   ]
  },
  {
   "cell_type": "code",
   "execution_count": 32,
   "metadata": {
    "ExecuteTime": {
     "end_time": "2023-06-27T12:49:29.019039Z",
     "start_time": "2023-06-27T12:49:28.688081Z"
    }
   },
   "outputs": [
    {
     "data": {
      "text/plain": [
       "<AxesSubplot: xlabel='city', ylabel='fire insurance (R$)'>"
      ]
     },
     "execution_count": 32,
     "metadata": {},
     "output_type": "execute_result"
    },
    {
     "data": {
      "image/png": "[encoded data removed]",
      "text/plain": [
       "<Figure size 640x480 with 1 Axes>"
      ]
     },
     "metadata": {},
     "output_type": "display_data"
    }
   ],
   "source": [
    "sns.barplot(data, x = 'city', y = 'fire insurance (R$)')"
   ]
  },
  {
   "cell_type": "code",
   "execution_count": 33,
   "metadata": {
    "ExecuteTime": {
     "end_time": "2023-06-27T12:50:08.340287Z",
     "start_time": "2023-06-27T12:50:08.218360Z"
    }
   },
   "outputs": [
    {
     "data": {
      "text/plain": [
       "<AxesSubplot: xlabel='city', ylabel='count'>"
      ]
     },
     "execution_count": 33,
     "metadata": {},
     "output_type": "execute_result"
    },
    {
     "data": {
      "image/png": "[encoded data removed]",
      "text/plain": [
       "<Figure size 640x480 with 1 Axes>"
      ]
     },
     "metadata": {},
     "output_type": "display_data"
    }
   ],
   "source": [
    "sns.countplot(data, x = 'city')"
   ]
  }
 ],
 "metadata": {
  "colab": {
   "provenance": []
  },
  "hide_input": false,
  "kernelspec": {
   "display_name": "Python 3 (ipykernel)",
   "language": "python",
   "name": "python3"
  },
  "language_info": {
   "codemirror_mode": {
    "name": "ipython",
    "version": 3
   },
   "file_extension": ".py",
   "mimetype": "text/x-python",
   "name": "python",
   "nbconvert_exporter": "python",
   "pygments_lexer": "ipython3",
   "version": "3.10.11"
  },
  "varInspector": {
   "cols": {
    "lenName": 16,
    "lenType": 16,
    "lenVar": 40
   },
   "kernels_config": {
    "python": {
     "delete_cmd_postfix": "",
     "delete_cmd_prefix": "del ",
     "library": "var_list.py",
     "varRefreshCmd": "print(var_dic_list())"
    },
    "r": {
     "delete_cmd_postfix": ") ",
     "delete_cmd_prefix": "rm(",
     "library": "var_list.r",
     "varRefreshCmd": "cat(var_dic_list()) "
    }
   },
   "types_to_exclude": [
    "module",
    "function",
    "builtin_function_or_method",
    "instance",
    "_Feature"
   ],
   "window_display": false
  }
 },
 "nbformat": 4,
 "nbformat_minor": 1
}
