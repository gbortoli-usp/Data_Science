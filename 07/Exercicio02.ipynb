{
  "nbformat": 4,
  "nbformat_minor": 0,
  "metadata": {
    "colab": {
      "provenance": []
    },
    "kernelspec": {
      "name": "python3",
      "display_name": "Python 3"
    }
  },
  "cells": [
    {
      "cell_type": "markdown",
      "metadata": {
        "id": "aTlpjsyHUTv-"
      },
      "source": [
        "#SCC5871/MAI5025 - INTRODUÇÃO A REDES NEURAIS\n",
        "# PROFA. ROSELI AP. FRANCELIN ROMERO\n",
        "# Aula 02 - Exercício 02\n",
        "### Multi_Layer Perceptrons\n",
        "- REGRESSÃO <br>\n",
        "- CLASSIFICADOR\n",
        "### Alunos:\n",
        " - \n",
        " - "
      ]
    },
    {
      "cell_type": "markdown",
      "source": [
        "#Exercicio 1 - REGRESSOR\n",
        "Utilize o conjunto de dados utilizado no Exercício da Aula1: dados.txt\n",
        "\n",
        "- Teste com 3 diferentes arquiteturas de redes multi-camadas (MLPs)\n",
        "- Compare o erro MSE obtido com os modelos treinados com o erro MSE obtido com a regressão multivariada.\n",
        "\n",
        "# Exercicio 2 - CLASSIFICADOR"
      ],
      "metadata": {
        "id": "gDSlsh-gOIPi"
      }
    },
    {
      "cell_type": "markdown",
      "metadata": {
        "id": "Lj8Koo4pUWWU"
      },
      "source": [
        "## Multilayer Perceptron para classificação do dataset Wine\n",
        "Neste exercício utilizaremos a base de dados Wine, que consiste em 178 exemplos de dimensionalidade 13, separados em 3 classes. Os atributos dessa base de dados não estão normalizados, apresentando intervalos variados de valores.\n",
        "\n",
        "- Carregue a base de dados wine e normalize entre 0 e 1 o valor dos seus atributos"
      ]
    },
    {
      "cell_type": "code",
      "metadata": {
        "id": "qgP1cqVAUMQc"
      },
      "source": [
        "from sklearn.datasets import load_wine\n",
        "from sklearn.preprocessing import MinMaxScaler\n"
      ],
      "execution_count": null,
      "outputs": []
    },
    {
      "cell_type": "code",
      "metadata": {
        "id": "cGunbSoUTIH0"
      },
      "source": [],
      "execution_count": null,
      "outputs": []
    },
    {
      "cell_type": "markdown",
      "metadata": {
        "id": "YxuLjxtg0uZ2"
      },
      "source": [
        "---\n",
        "- Agora divida a base em conjunto de teste e treino. Utilize 20% da base para teste e 80% para treino."
      ]
    },
    {
      "cell_type": "code",
      "metadata": {
        "id": "b8T1WrYHVs80"
      },
      "source": [
        "from sklearn.model_selection import train_test_split"
      ],
      "execution_count": null,
      "outputs": []
    },
    {
      "cell_type": "markdown",
      "metadata": {
        "id": "YpZ85fjn08Hp"
      },
      "source": [
        "---\n",
        "- Treine 3 classificadores MLP (com `solver='sgd'`), variando o número de neurônios na camada escondida. Reporte o score dos classificadores nos conjuntos de treino e teste.\n",
        "  - Parâmetros para  alterar: hidden_layer_sizes, max_iter,  tol, learning_rate_init"
      ]
    },
    {
      "cell_type": "code",
      "metadata": {
        "id": "6B5F6mAazFO9",
        "colab": {
          "base_uri": "https://localhost:8080/",
          "height": 92
        },
        "outputId": "d4546f68-f5e5-49ef-9a43-2cc43865c564"
      },
      "source": [
        "from sklearn.neural_network import MLPClassifier\n",
        "MLPClassifier(hidden_layer_sizes=20, solver='sgd', alpha=0.001,learning_rate='adaptive', max_iter=1000)"
      ],
      "execution_count": 2,
      "outputs": [
        {
          "output_type": "execute_result",
          "data": {
            "text/plain": [
              "MLPClassifier(alpha=0.001, hidden_layer_sizes=20, learning_rate='adaptive',\n",
              "              max_iter=1000, solver='sgd')"
            ],
            "text/html": [
              "<style>#sk-container-id-1 {color: black;background-color: white;}#sk-container-id-1 pre{padding: 0;}#sk-container-id-1 div.sk-toggleable {background-color: white;}#sk-container-id-1 label.sk-toggleable__label {cursor: pointer;display: block;width: 100%;margin-bottom: 0;padding: 0.3em;box-sizing: border-box;text-align: center;}#sk-container-id-1 label.sk-toggleable__label-arrow:before {content: \"▸\";float: left;margin-right: 0.25em;color: #696969;}#sk-container-id-1 label.sk-toggleable__label-arrow:hover:before {color: black;}#sk-container-id-1 div.sk-estimator:hover label.sk-toggleable__label-arrow:before {color: black;}#sk-container-id-1 div.sk-toggleable__content {max-height: 0;max-width: 0;overflow: hidden;text-align: left;background-color: #f0f8ff;}#sk-container-id-1 div.sk-toggleable__content pre {margin: 0.2em;color: black;border-radius: 0.25em;background-color: #f0f8ff;}#sk-container-id-1 input.sk-toggleable__control:checked~div.sk-toggleable__content {max-height: 200px;max-width: 100%;overflow: auto;}#sk-container-id-1 input.sk-toggleable__control:checked~label.sk-toggleable__label-arrow:before {content: \"▾\";}#sk-container-id-1 div.sk-estimator input.sk-toggleable__control:checked~label.sk-toggleable__label {background-color: #d4ebff;}#sk-container-id-1 div.sk-label input.sk-toggleable__control:checked~label.sk-toggleable__label {background-color: #d4ebff;}#sk-container-id-1 input.sk-hidden--visually {border: 0;clip: rect(1px 1px 1px 1px);clip: rect(1px, 1px, 1px, 1px);height: 1px;margin: -1px;overflow: hidden;padding: 0;position: absolute;width: 1px;}#sk-container-id-1 div.sk-estimator {font-family: monospace;background-color: #f0f8ff;border: 1px dotted black;border-radius: 0.25em;box-sizing: border-box;margin-bottom: 0.5em;}#sk-container-id-1 div.sk-estimator:hover {background-color: #d4ebff;}#sk-container-id-1 div.sk-parallel-item::after {content: \"\";width: 100%;border-bottom: 1px solid gray;flex-grow: 1;}#sk-container-id-1 div.sk-label:hover label.sk-toggleable__label {background-color: #d4ebff;}#sk-container-id-1 div.sk-serial::before {content: \"\";position: absolute;border-left: 1px solid gray;box-sizing: border-box;top: 0;bottom: 0;left: 50%;z-index: 0;}#sk-container-id-1 div.sk-serial {display: flex;flex-direction: column;align-items: center;background-color: white;padding-right: 0.2em;padding-left: 0.2em;position: relative;}#sk-container-id-1 div.sk-item {position: relative;z-index: 1;}#sk-container-id-1 div.sk-parallel {display: flex;align-items: stretch;justify-content: center;background-color: white;position: relative;}#sk-container-id-1 div.sk-item::before, #sk-container-id-1 div.sk-parallel-item::before {content: \"\";position: absolute;border-left: 1px solid gray;box-sizing: border-box;top: 0;bottom: 0;left: 50%;z-index: -1;}#sk-container-id-1 div.sk-parallel-item {display: flex;flex-direction: column;z-index: 1;position: relative;background-color: white;}#sk-container-id-1 div.sk-parallel-item:first-child::after {align-self: flex-end;width: 50%;}#sk-container-id-1 div.sk-parallel-item:last-child::after {align-self: flex-start;width: 50%;}#sk-container-id-1 div.sk-parallel-item:only-child::after {width: 0;}#sk-container-id-1 div.sk-dashed-wrapped {border: 1px dashed gray;margin: 0 0.4em 0.5em 0.4em;box-sizing: border-box;padding-bottom: 0.4em;background-color: white;}#sk-container-id-1 div.sk-label label {font-family: monospace;font-weight: bold;display: inline-block;line-height: 1.2em;}#sk-container-id-1 div.sk-label-container {text-align: center;}#sk-container-id-1 div.sk-container {/* jupyter's `normalize.less` sets `[hidden] { display: none; }` but bootstrap.min.css set `[hidden] { display: none !important; }` so we also need the `!important` here to be able to override the default hidden behavior on the sphinx rendered scikit-learn.org. See: https://github.com/scikit-learn/scikit-learn/issues/21755 */display: inline-block !important;position: relative;}#sk-container-id-1 div.sk-text-repr-fallback {display: none;}</style><div id=\"sk-container-id-1\" class=\"sk-top-container\"><div class=\"sk-text-repr-fallback\"><pre>MLPClassifier(alpha=0.001, hidden_layer_sizes=20, learning_rate=&#x27;adaptive&#x27;,\n",
              "              max_iter=1000, solver=&#x27;sgd&#x27;)</pre><b>In a Jupyter environment, please rerun this cell to show the HTML representation or trust the notebook. <br />On GitHub, the HTML representation is unable to render, please try loading this page with nbviewer.org.</b></div><div class=\"sk-container\" hidden><div class=\"sk-item\"><div class=\"sk-estimator sk-toggleable\"><input class=\"sk-toggleable__control sk-hidden--visually\" id=\"sk-estimator-id-1\" type=\"checkbox\" checked><label for=\"sk-estimator-id-1\" class=\"sk-toggleable__label sk-toggleable__label-arrow\">MLPClassifier</label><div class=\"sk-toggleable__content\"><pre>MLPClassifier(alpha=0.001, hidden_layer_sizes=20, learning_rate=&#x27;adaptive&#x27;,\n",
              "              max_iter=1000, solver=&#x27;sgd&#x27;)</pre></div></div></div></div></div>"
            ]
          },
          "metadata": {},
          "execution_count": 2
        }
      ]
    },
    {
      "cell_type": "markdown",
      "metadata": {
        "id": "PfX6WYjh13GS"
      },
      "source": [
        "---\n",
        "- Selecione uma amostra pequena de tamanho 10 do conjunto de testes. Selecione o classificador que apresentou maior acurácia no conjunto de testes e calcule, para cada elemento da amostra, a classe esperada, a classe obtida e a probabilidade estimada de cada classe"
      ]
    },
    {
      "cell_type": "code",
      "metadata": {
        "id": "V98MdpUaJPuH"
      },
      "source": [],
      "execution_count": null,
      "outputs": []
    },
    {
      "cell_type": "markdown",
      "metadata": {
        "id": "03NDi1Re23W5"
      },
      "source": [
        "---\n",
        "- Agora sobre a mesma amostra escolhida anteriormente, selecione o classificador que apresentou menor acurácia no conjunto de testes e calcule, para cada elemento da amostra, a classe esperada, a classe obtida e a probabilidade esperada de cada classe."
      ]
    },
    {
      "cell_type": "code",
      "metadata": {
        "id": "F5OBeWOR3Kdr"
      },
      "source": [],
      "execution_count": null,
      "outputs": []
    },
    {
      "cell_type": "markdown",
      "metadata": {
        "id": "aZF6M90l3dfd"
      },
      "source": [
        "\n",
        "\n",
        "---\n",
        "\n",
        "- Faça uma análise das probabilidades calculadas por cada classificador nos exemplos corretos e relacione-as com a 'qualidade' dos mesmos."
      ]
    },
    {
      "cell_type": "markdown",
      "metadata": {
        "id": "yCVPzVVJ7wql"
      },
      "source": []
    },
    {
      "cell_type": "markdown",
      "metadata": {
        "id": "BkCZAX_VUdDD"
      },
      "source": [
        "---\n",
        "- Calcule, usando 10-fold cross-validation, a acurácia média da melhor configuração de classificador que você utilizou e seu desvio padrão"
      ]
    },
    {
      "cell_type": "code",
      "metadata": {
        "id": "8lJCpQ8FU8ca"
      },
      "source": [
        "from sklearn.model_selection import StratifiedKFold\n"
      ],
      "execution_count": null,
      "outputs": []
    }
  ]
}