{
  "cells": [
    {
      "attachments": {},
      "cell_type": "markdown",
      "metadata": {
        "id": "aNSNSisPAaeV"
      },
      "source": [
        "## **SCC5871/MAI5025 - INTRODUÇÃO A APRENDIZADO DE MÁQUINA**\n",
        "## PROFA. ROSELI AP. FRANCELIN ROMERO\n",
        "# 1°. SEMESTRE DE 2023\n",
        "##\n",
        "\n",
        "Alunos:\n",
        "- Gabriel Bortoli (5378290)\n",
        "- Lucas Maretti (6789752)"
      ]
    },
    {
      "attachments": {},
      "cell_type": "markdown",
      "metadata": {
        "id": "zGmjqcXXcSKN"
      },
      "source": [
        "\n",
        "\n",
        "---\n",
        "### Questão 01.\n",
        "\n",
        "Para esse exercício, carregue a base de dados `dados.txt`. Esta base possui 14 variáveis independentes, organizados em 14 colunas. A 15ª coluna representa a variável dependente (o valor da função). Carregue os dados em uma estrutura Pandas DataFrame. Utilize um regressor linear nesse conjunto de dados e calcule seu erro quadrático médio (mean squared error - MSE)\n",
        "\n",
        "- Avalie o MSE considerando o conjunto de dados **inteiro** para avaliação."
      ]
    },
    {
      "cell_type": "code",
      "execution_count": 82,
      "metadata": {
        "id": "3McwYYVBUade"
      },
      "outputs": [],
      "source": [
        "import pandas as pd\n",
        "from sklearn.linear_model import LinearRegression\n",
        "from sklearn.linear_model import LogisticRegression\n",
        "from sklearn.preprocessing import PolynomialFeatures\n",
        "from sklearn.metrics import mean_squared_error\n",
        "from sklearn.model_selection import train_test_split\n",
        "from sklearn.pipeline import Pipeline\n",
        "from sklearn.preprocessing import MinMaxScaler\n",
        "from sklearn.compose import ColumnTransformer\n",
        "from sklearn.metrics import recall_score\n",
        "from sklearn.metrics import accuracy_score\n",
        "from sklearn.metrics import f1_score\n",
        "from sklearn.metrics import roc_auc_score\n",
        "\n",
        "data = pd.read_csv(\"dados.txt\")"
      ]
    },
    {
      "cell_type": "code",
      "execution_count": 6,
      "metadata": {
        "id": "_iI-YWg40qKY"
      },
      "outputs": [],
      "source": [
        "X = data.iloc[:,:-1]\n",
        "Y = data.iloc[:,-1]"
      ]
    },
    {
      "cell_type": "code",
      "execution_count": 34,
      "metadata": {},
      "outputs": [
        {
          "name": "stdout",
          "output_type": "stream",
          "text": [
            "MSE Calculado utilizando a Regressão Linear simples:\n",
            "3.8911\n"
          ]
        }
      ],
      "source": [
        "lin = LinearRegression()\n",
        "lin.fit(X, Y)\n",
        "\n",
        "Y_pred = lin.predict(X)\n",
        "\n",
        "mse_case1 = mean_squared_error(Y,Y_pred)\n",
        "\n",
        "print(f'MSE Calculado utilizando a Regressão Linear simples:\\n{mse_case1:.4f}')\n"
      ]
    },
    {
      "attachments": {},
      "cell_type": "markdown",
      "metadata": {
        "id": "4ZcRV4NXEGVk"
      },
      "source": [
        "---\n",
        "### Questão 02.\n",
        "\n",
        "Agora faça regressão polinomial nos dados, utilizando um polinômio de grau 2. Calcule seu MSE.\n",
        "\n",
        "* Dica: Utilize a classe importada para *transformar* os dados para uma regressão polinomial de grau 2. Mais informações sobre como o processo podem ser encontradas dentro da pasta do projeto.\n"
      ]
    },
    {
      "cell_type": "code",
      "execution_count": 33,
      "metadata": {
        "id": "6Dd0ojbz0oqx"
      },
      "outputs": [
        {
          "name": "stdout",
          "output_type": "stream",
          "text": [
            "MSE Calculado utilizando a Regressão Polinomial de grau 2 e depois Regressão Linear:\n",
            "2.1378\n"
          ]
        }
      ],
      "source": [
        "poly2 = PolynomialFeatures(degree=2, include_bias=False)\n",
        "\n",
        "X_poly2 = poly2.fit_transform(X)\n",
        "\n",
        "lin.fit(X_poly2,Y)\n",
        "\n",
        "Y_poly2 = lin.predict(X_poly2)\n",
        "\n",
        "mse_case2 = mean_squared_error(Y,Y_poly2)\n",
        "\n",
        "print(f'MSE Calculado utilizando a Regressão Polinomial de grau 2 e depois Regressão Linear:\\n{mse_case2:.4f}')"
      ]
    },
    {
      "attachments": {},
      "cell_type": "markdown",
      "metadata": {
        "id": "PVC-mufXQy14"
      },
      "source": [
        "---\n",
        "\n",
        "### Questão 03.\n",
        "\n",
        "Por fim, faça regressão polinomial utilizando um polinômio de grau 3. Verifique qual das 3 abordagens adotada produz o menor erro quadrático médio (MSE).\n",
        "- Avalie o MSE considerando o conjunto de dados **inteiro**  para avaliação.\n"
      ]
    },
    {
      "cell_type": "code",
      "execution_count": 32,
      "metadata": {
        "id": "qX_b0d1Y0ufo"
      },
      "outputs": [
        {
          "name": "stdout",
          "output_type": "stream",
          "text": [
            "MSE Calculado utilizando a Regressão Polinomial de grau 3 e depois Regressão Linear:\n",
            "0.0000\n"
          ]
        }
      ],
      "source": [
        "poly3 = PolynomialFeatures(degree=3, include_bias=False)\n",
        "\n",
        "X_poly3 = poly3.fit_transform(X)\n",
        "\n",
        "lin.fit(X_poly3,Y)\n",
        "\n",
        "Y_poly3 = lin.predict(X_poly3)\n",
        "\n",
        "mse_case3 = mean_squared_error(Y,Y_poly3)\n",
        "\n",
        "print(f'MSE Calculado utilizando a Regressão Polinomial de grau 3 e depois Regressão Linear:\\n{mse_case3:.4f}')"
      ]
    },
    {
      "attachments": {},
      "cell_type": "markdown",
      "metadata": {},
      "source": [
        "Podemos ver que a regressão polinomial de grau 3 conseguiu estabelecer parâmetros com exatidão para os dados propostos.\n",
        "\n",
        "Os erros quadráticos diminuiram significativamente da regressão linear normal para grau 2 e depois zeraram para grau 3.\n",
        "\n",
        "---"
      ]
    },
    {
      "attachments": {},
      "cell_type": "markdown",
      "metadata": {
        "id": "pUZ26yhXuRpt"
      },
      "source": [
        "# Conjunto de dados de transações bancárias\n",
        "\n",
        "No dataset que será utilizado para as próximas questões, cada elemento representa uma transação com cartões de crédito. \n",
        "\n",
        "A base possui 30 atributos. `Time` representa o tempo em segundos desde a primeira transação da base. `Amount` corresponde ao valor da transação.\n",
        "\n",
        "Outros 28 atributos numéricos anonimizados também são fornecidos, com 1 variável (`Class`) de saída onde 1 significa fraude e 0 transação normal."
      ]
    },
    {
      "cell_type": "code",
      "execution_count": 51,
      "metadata": {
        "id": "hP26bTr5uQfi"
      },
      "outputs": [],
      "source": [
        "data_df = pd.read_csv(\"creditcard_sampled.csv\", index_col=0)"
      ]
    },
    {
      "cell_type": "code",
      "execution_count": 52,
      "metadata": {
        "id": "CXylk58XvWNF"
      },
      "outputs": [
        {
          "name": "stdout",
          "output_type": "stream",
          "text": [
            "            V1        V2        V3        V4        V5        V6        V7  \\\n",
            "541  -2.312227  1.951992 -1.609851  3.997906 -0.522188 -1.426545 -2.537387   \n",
            "623  -3.043541 -3.157307  1.088463  2.288644  1.359805 -1.064823  0.325574   \n",
            "4920 -2.303350  1.759247 -0.359745  2.330243 -0.821628 -0.075788  0.562320   \n",
            "\n",
            "            V8        V9       V10  ...       V21       V22       V23  \\\n",
            "541   1.391657 -2.770089 -2.772272  ...  0.517232 -0.035049 -0.465211   \n",
            "623  -0.067794 -0.270953 -0.838587  ...  0.661696  0.435477  1.375966   \n",
            "4920 -0.399147 -0.238253 -1.525412  ... -0.294166 -0.932391  0.172726   \n",
            "\n",
            "           V24       V25       V26       V27       V28  Amount  Class  \n",
            "541   0.320198  0.044519  0.177840  0.261145 -0.143276    0.00      1  \n",
            "623  -0.293803  0.279798 -0.145362 -0.252773  0.035764  529.00      1  \n",
            "4920 -0.087330 -0.156114 -0.542628  0.039566 -0.153029  239.93      1  \n",
            "\n",
            "[3 rows x 30 columns]\n",
            "Index(['V1', 'V2', 'V3', 'V4', 'V5', 'V6', 'V7', 'V8', 'V9', 'V10', 'V11',\n",
            "       'V12', 'V13', 'V14', 'V15', 'V16', 'V17', 'V18', 'V19', 'V20', 'V21',\n",
            "       'V22', 'V23', 'V24', 'V25', 'V26', 'V27', 'V28', 'Amount', 'Class'],\n",
            "      dtype='object')\n"
          ]
        }
      ],
      "source": [
        "# Removendo coluna com timestamps\n",
        "data_df = data_df.drop(columns=[\"Time\"])\n",
        "\n",
        "print(data_df.head(3))\n",
        "print(data_df.columns)"
      ]
    },
    {
      "attachments": {},
      "cell_type": "markdown",
      "metadata": {
        "id": "EEQESL7Jv3it"
      },
      "source": [
        "### Questão 4\n",
        "\n",
        "Divida o conjunto de dados em treino e teste seguindo as seguintes orientações:\n",
        "\n",
        "- utilize a função [train_test_split](https://scikit-learn.org/stable/modules/generated/sklearn.model_selection.train_test_split.html) do sklearn\n",
        "- utilize as seguintes proporções: 80% para treino e 20% para teste\n",
        "- faça a divisão dos dados respeitando as proporções das classes (utilize o parâmetro *stratify*)"
      ]
    },
    {
      "cell_type": "code",
      "execution_count": 80,
      "metadata": {},
      "outputs": [
        {
          "name": "stdout",
          "output_type": "stream",
          "text": [
            "0    7999\n",
            "1     394\n",
            "Name: Class, dtype: int64\n",
            "0    2001\n",
            "1      98\n",
            "Name: Class, dtype: int64\n"
          ]
        }
      ],
      "source": [
        "X_cc = data_df.iloc[:,:-1]\n",
        "Y_cc = data_df.iloc[:,-1]\n",
        "\n",
        "X_train, X_test, y_train, y_test = train_test_split(X_cc, Y_cc, test_size=0.2, random_state=42, stratify=Y_cc)\n",
        "\n",
        "print(y_train.value_counts())\n",
        "print(y_test.value_counts())"
      ]
    },
    {
      "attachments": {},
      "cell_type": "markdown",
      "metadata": {
        "id": "ZbiH0DB5xuXo"
      },
      "source": [
        "### Questão 5\n",
        "\n",
        "Sabendo que estamos interessados em identificar fraudes e transações normais, responda:\n",
        "\n",
        "- a) Identificação de fraudes é o problema de classificação ou regressão? Justifique sua resposta.\n",
        "- b) Analise as [métricas do sklearn](https://scikit-learn.org/stable/modules/classes.html#module-sklearn.metrics), e escolha uma adequada para avaliar o problema de interesse. Justifique sua escolha."
      ]
    },
    {
      "attachments": {},
      "cell_type": "markdown",
      "metadata": {},
      "source": [
        "a.) Considerando que os resultados esperados são se houve fraude ou não (1 e 0, respectivamente), estamos diante de um problema de classificação.\n",
        "\n",
        "b.) Considerando que é importante minimizar falsos negativos (quando houve fraude e é considerado que não houve), uma boa métrica a ser usada é a de recall (TP/TP+FN).\n",
        "\n",
        "---"
      ]
    },
    {
      "attachments": {},
      "cell_type": "markdown",
      "metadata": {
        "id": "qE44sNGg0i9q"
      },
      "source": [
        "### Questão 6\n",
        "\n",
        "Considerando os conjuntos de dados dividos na Questão 4:\n",
        "\n",
        "- Sabendo que os dados analisados correspondem a valores numéricos, aplique um procedimento adequado para pré-processamento dos mesmos (ex: normalização ou padronização) para os dados de treino e teste.\n",
        "- Treine um [Regressor Logístico](https://scikit-learn.org/stable/modules/generated/sklearn.linear_model.LogisticRegression.html) nos dados de treino e avalie seu modelo no conjunto de teste **utilizando a métrica escolhida na Questão 5**."
      ]
    },
    {
      "cell_type": "code",
      "execution_count": 84,
      "metadata": {
        "id": "Nlsq1eog1_L-"
      },
      "outputs": [
        {
          "name": "stdout",
          "output_type": "stream",
          "text": [
            "Recall Score para a Regressão Logistica:\n",
            "0.7653\n",
            "\n",
            "\n",
            "Accuracy Score para a Regressão Logistica:\n",
            "0.9890\n",
            "F1 Score para a Regressão Logistica:\n",
            "0.8671\n",
            "ROC AUC Score para a Regressão Logistica:\n",
            "0.8827\n"
          ]
        }
      ],
      "source": [
        "# Pré processamento:\n",
        "\n",
        "pipe_num = Pipeline(steps=[(\"scaler\", MinMaxScaler())])\n",
        "\n",
        "transform = ColumnTransformer(\n",
        "    transformers=[\n",
        "        (\"transf num\", pipe_num, X_cc.columns)\n",
        "    ]\n",
        ")\n",
        "\n",
        "# Aplicando a transformação nos datasets:\n",
        "X_train_new = pd.DataFrame(data = transform.fit_transform(X_train).round(4), columns= X_train.columns)\n",
        "X_test_new = pd.DataFrame(data = transform.fit_transform(X_test).round(4), columns= X_test.columns)\n",
        "\n",
        "####################\n",
        "\n",
        "# Treinando o Regressor Logistico:\n",
        "\n",
        "logreg = LogisticRegression(random_state=42).fit(X_train_new, y_train)\n",
        "y_pred = logreg.predict(X_test_new)\n",
        "\n",
        "\n",
        "# Avaliando o regressor:\n",
        "print(f'Recall Score para a Regressão Logistica:\\n{recall_score(y_test, y_pred):.4f}')\n",
        "\n",
        "####################\n",
        "\n",
        "# Avaliando outras métricas:\n",
        "\n",
        "print(f'\\n\\nAccuracy Score para a Regressão Logistica:\\n{accuracy_score(y_test, y_pred):.4f}')\n",
        "print(f'F1 Score para a Regressão Logistica:\\n{f1_score(y_test, y_pred):.4f}')\n",
        "print(f'ROC AUC Score para a Regressão Logistica:\\n{roc_auc_score(y_test, y_pred):.4f}')"
      ]
    },
    {
      "attachments": {},
      "cell_type": "markdown",
      "metadata": {},
      "source": [
        "Podemos notar que para algumas métricas os resultados são muito bons, como para a acurácia, que ficou em 98.9%.\n",
        "\n",
        "Porém, como é muito importante que todas as fraudes sejam pegas, ainda que algumas transações não fraudelentas também precisem ser validadas, é importante focar em melhorar o algoritmo para aumentar o Recall Score.\n",
        "\n",
        "---"
      ]
    },
    {
      "attachments": {},
      "cell_type": "markdown",
      "metadata": {},
      "source": []
    }
  ],
  "metadata": {
    "colab": {
      "provenance": []
    },
    "kernelspec": {
      "display_name": "Python 3",
      "name": "python3"
    },
    "language_info": {
      "codemirror_mode": {
        "name": "ipython",
        "version": 3
      },
      "file_extension": ".py",
      "mimetype": "text/x-python",
      "name": "python",
      "nbconvert_exporter": "python",
      "pygments_lexer": "ipython3",
      "version": "3.10.11"
    }
  },
  "nbformat": 4,
  "nbformat_minor": 0
}
